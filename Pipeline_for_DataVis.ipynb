{
 "cells": [
  {
   "cell_type": "code",
   "execution_count": 1,
   "metadata": {},
   "outputs": [],
   "source": [
    "def get_machine_translations(m, n):\n",
    "    from Data import Data\n",
    "    dataset = Data().get_data()\n",
    "    out = []\n",
    "    for a in range(m, n):\n",
    "        out.append(dataset[a][1])\n",
    "    return out"
   ]
  },
  {
   "cell_type": "code",
   "execution_count": 2,
   "metadata": {},
   "outputs": [],
   "source": [
    "def get_post_editings(m, n):\n",
    "    from Data import Data\n",
    "    dataset = Data().get_data()\n",
    "    out = []\n",
    "    for a in range(m, n):\n",
    "        out.append(dataset[a][2])\n",
    "    return out"
   ]
  },
  {
   "cell_type": "code",
   "execution_count": 3,
   "metadata": {},
   "outputs": [],
   "source": [
    "def words_to_vec(x, val=False):\n",
    "    from WordEmbeddings import WordEmbeddings\n",
    "    out = []\n",
    "    for a in x:\n",
    "        out.append(WordEmbeddings(text=a).get_spanish_vectors(normalized=val))\n",
    "    return out"
   ]
  },
  {
   "cell_type": "code",
   "execution_count": 4,
   "metadata": {},
   "outputs": [],
   "source": [
    "def retransform(arr, dimensions=2):\n",
    "    from sklearn.manifold import TSNE\n",
    "    from sklearn import preprocessing\n",
    "    arr = arr.reshape(-1,1)\n",
    "    arr = TSNE(n_components=dimensions).fit_transform(arr)\n",
    "    arr = preprocessing.normalize(arr)\n",
    "    return arr"
   ]
  },
  {
   "cell_type": "code",
   "execution_count": 5,
   "metadata": {},
   "outputs": [],
   "source": [
    "def transformations(interable):\n",
    "    import numpy as np\n",
    "    out=[]\n",
    "    for a, b in interable:\n",
    "        b=retransform(b, dimensions=2)\n",
    "        out.append([a, b])\n",
    "    return out"
   ]
  },
  {
   "cell_type": "code",
   "execution_count": 6,
   "metadata": {},
   "outputs": [],
   "source": [
    "def make_dual_plots(x1, y1, x2, y2, name1, name2):\n",
    "    import plotly.graph_objects as go\n",
    "    fig = go.Figure()\n",
    "    fig.add_trace(go.Scatter(x=x1, y=y1, mode='lines+markers',name=name1))\n",
    "    fig.add_trace(go.Scatter(x=x2, y=y2, mode='lines+markers',name=name2))\n",
    "    fig.show()"
   ]
  },
  {
   "cell_type": "markdown",
   "metadata": {},
   "source": [
    "Get the Data and the text, and then print the data and the visualize the graph for it. \n",
    "Use the Normalized the data and then the text. "
   ]
  },
  {
   "cell_type": "code",
   "execution_count": 7,
   "metadata": {},
   "outputs": [],
   "source": [
    "mt = get_machine_translations(0,10)"
   ]
  },
  {
   "cell_type": "code",
   "execution_count": 8,
   "metadata": {},
   "outputs": [],
   "source": [
    "pe = get_post_editings(0, 10)"
   ]
  },
  {
   "cell_type": "code",
   "execution_count": 9,
   "metadata": {},
   "outputs": [],
   "source": [
    "vectors_mt = words_to_vec(mt, val=True)"
   ]
  },
  {
   "cell_type": "code",
   "execution_count": 10,
   "metadata": {},
   "outputs": [],
   "source": [
    "vectors_pe = words_to_vec(pe, val=True)"
   ]
  },
  {
   "cell_type": "code",
   "execution_count": 13,
   "metadata": {},
   "outputs": [
    {
     "data": {
      "text/plain": [
       "[['Laura', 2.0314295],\n",
       " ['García', 1.4101869],\n",
       " ['Benitez', 5.9572234],\n",
       " ['nacido', 6.1379538],\n",
       " ['abril', 6.583399],\n",
       " ['en', 8.685794],\n",
       " ['Pamplona', 0.6758324],\n",
       " ['es', 8.089772],\n",
       " ['un', 8.556655],\n",
       " ['español', 6.7096114],\n",
       " ['judoka', 5.277914],\n",
       " ['quién', 5.88974],\n",
       " ['ha', 7.9432616],\n",
       " ['representado', 5.2249656],\n",
       " ['España', 2.1688902],\n",
       " ['en', 8.685794],\n",
       " ['el', 9.010058],\n",
       " ['y', 8.780606],\n",
       " ['Verano', 6.0795145]]"
      ]
     },
     "execution_count": 13,
     "metadata": {},
     "output_type": "execute_result"
    }
   ],
   "source": [
    "vectors_mt[0]"
   ]
  },
  {
   "cell_type": "code",
   "execution_count": 22,
   "metadata": {},
   "outputs": [],
   "source": [
    "strs = \"\"\n",
    "nums = []\n",
    "for a, b in vectors_mt[0]:\n",
    "    strs=strs+\" \"+a\n",
    "    nums.append(b)\n",
    "    "
   ]
  },
  {
   "cell_type": "code",
   "execution_count": 23,
   "metadata": {},
   "outputs": [
    {
     "data": {
      "text/plain": [
       "' Laura García Benitez nacido abril en Pamplona es un español judoka quién ha representado España en el y Verano'"
      ]
     },
     "execution_count": 23,
     "metadata": {},
     "output_type": "execute_result"
    }
   ],
   "source": [
    "strs"
   ]
  },
  {
   "cell_type": "code",
   "execution_count": 24,
   "metadata": {},
   "outputs": [
    {
     "data": {
      "text/plain": [
       "[2.0314295,\n",
       " 1.4101869,\n",
       " 5.9572234,\n",
       " 6.1379538,\n",
       " 6.583399,\n",
       " 8.685794,\n",
       " 0.6758324,\n",
       " 8.089772,\n",
       " 8.556655,\n",
       " 6.7096114,\n",
       " 5.277914,\n",
       " 5.88974,\n",
       " 7.9432616,\n",
       " 5.2249656,\n",
       " 2.1688902,\n",
       " 8.685794,\n",
       " 9.010058,\n",
       " 8.780606,\n",
       " 6.0795145]"
      ]
     },
     "execution_count": 24,
     "metadata": {},
     "output_type": "execute_result"
    }
   ],
   "source": [
    "nums"
   ]
  },
  {
   "cell_type": "code",
   "execution_count": 26,
   "metadata": {},
   "outputs": [
    {
     "data": {
      "text/plain": [
       "'Laura García Benitez (nacido 19 abril 1981 en Pamplona) es un español judoka quién ha representado España en el 2008 y 2012 Verano Paralympics.'"
      ]
     },
     "execution_count": 26,
     "metadata": {},
     "output_type": "execute_result"
    }
   ],
   "source": [
    "mt[0]"
   ]
  },
  {
   "cell_type": "code",
   "execution_count": null,
   "metadata": {},
   "outputs": [],
   "source": []
  }
 ],
 "metadata": {
  "kernelspec": {
   "display_name": "Python 3",
   "language": "python",
   "name": "python3"
  },
  "language_info": {
   "codemirror_mode": {
    "name": "ipython",
    "version": 3
   },
   "file_extension": ".py",
   "mimetype": "text/x-python",
   "name": "python",
   "nbconvert_exporter": "python",
   "pygments_lexer": "ipython3",
   "version": "3.6.9"
  }
 },
 "nbformat": 4,
 "nbformat_minor": 4
}
